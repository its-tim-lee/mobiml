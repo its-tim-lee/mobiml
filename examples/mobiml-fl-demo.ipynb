{
 "cells": [
  {
   "cell_type": "markdown",
   "metadata": {},
   "source": [
    "# MobiML FL demo\n",
    "\n",
    "Using Flower and MobiML\n",
    "\n",
    "\n"
   ]
  },
  {
   "cell_type": "code",
   "execution_count": null,
   "metadata": {},
   "outputs": [],
   "source": [
    "%load_ext autoreload\n",
    "%autoreload 2"
   ]
  },
  {
   "cell_type": "code",
   "execution_count": null,
   "metadata": {},
   "outputs": [],
   "source": [
    "import os\n",
    "import sys\n",
    "import pickle\n",
    "import warnings\n",
    "import pandas as pd\n",
    "import geopandas as gpd\n",
    "import numpy as np\n",
    "from datetime import datetime, timedelta\n",
    "from copy import deepcopy\n",
    "from typing import Dict, List, Tuple\n",
    "from pathlib import Path\n",
    "from sklearn.metrics import log_loss\n",
    "from sklearn.preprocessing import MultiLabelBinarizer\n",
    "import pymeos\n",
    "\n",
    "import flwr as fl\n",
    "from flwr.common import Metrics, Context\n",
    "\n",
    "from mobiml.datasets import AISDK, MOVER_ID, SHIPTYPE\n",
    "from mobiml.transforms import StationaryClientExtractor, TripExtractor, TrajectoryAggregator, MobileClientExtractor\n",
    "from mobiml.models import SummarizedAISTrajectoryClassifier\n",
    "from mobiml.models.ais_trajectory_classifier import AISLoader, get_evaluate_fn, fit_round, weighted_average\n",
    "from mobiml.utils import convert_wgs_to_utm\n"
   ]
  },
  {
   "cell_type": "markdown",
   "metadata": {},
   "source": [
    "## Set FL simulation output verbosity settings\n",
    "\n",
    "\n",
    "RAY_BACKEND_LOG_LEVEL: to declutter log output in shells, a low-volume log level has been chosen from [the source code](https://github.com/ray-project/ray/blob/master/src/ray/util/logging.cc#L273)\n",
    "\n",
    "RAY_DEDUP_LOGS: to see logs from all clients instead of just one"
   ]
  },
  {
   "cell_type": "code",
   "execution_count": null,
   "metadata": {},
   "outputs": [],
   "source": [
    "os.environ['RAY_DEDUP_LOGS'] = '0'\n",
    "os.environ['RAY_BACKEND_LOG_LEVEL'] = 'fatal'\n"
   ]
  },
  {
   "cell_type": "code",
   "execution_count": null,
   "metadata": {},
   "outputs": [],
   "source": [
    "path = \"./data/aisdk-2018-02.zip\" # For a real-world experience, download AISDK input file (1 month of data, 14G) from here http://web.ais.dk/aisdata/aisdk-2018-02.zip\n",
    "\n",
    "#path = \"./data/aisdk_20180208_sample.zip\""
   ]
  },
  {
   "cell_type": "markdown",
   "metadata": {},
   "source": [
    "## Extract stationary client (antenna) data"
   ]
  },
  {
   "cell_type": "code",
   "execution_count": null,
   "metadata": {},
   "outputs": [],
   "source": [
    "antennas = ['Point (11.96524 57.70730)', 'Point (11.63979 57.71941)', 'Point (11.78460 57.57255)']\n",
    "antenna_radius_meters = 25000\n"
   ]
  },
  {
   "cell_type": "code",
   "execution_count": null,
   "metadata": {},
   "outputs": [],
   "source": [
    "epsg_code = convert_wgs_to_utm(11.96524, 57.70730)\n",
    "\n",
    "ids =  [{'client': i} for i in range(len(antennas))]\n",
    "df = pd.DataFrame(ids)\n",
    "df['geometry'] = gpd.GeoSeries.from_wkt(antennas)\n",
    "gdf = gpd.GeoDataFrame(df, geometry=df.geometry, crs=4326)\n",
    "gdf = gdf.to_crs(epsg_code)\n",
    "gdf['geometry'] = gdf.buffer(antenna_radius_meters)\n",
    "\n",
    "buffered_antennas =  gdf.to_crs(4326)\n",
    "min_lon, min_lat, max_lon, max_lat = buffered_antennas.geometry.total_bounds"
   ]
  },
  {
   "cell_type": "code",
   "execution_count": null,
   "metadata": {},
   "outputs": [],
   "source": [
    "out_dir = \"temp\"\n",
    "os.path.dirname(out_dir)\n",
    "if not os.path.exists(out_dir):\n",
    "    print(f\"{datetime.now()} Creating output directory {out_dir} ...\")\n",
    "    os.makedirs(out_dir)"
   ]
  },
  {
   "cell_type": "code",
   "execution_count": null,
   "metadata": {},
   "outputs": [],
   "source": [
    "print(f\"{datetime.now()} Loading data from {path}\")\n",
    "aisdk = AISDK(path, min_lon, min_lat, max_lon, max_lat)"
   ]
  },
  {
   "cell_type": "code",
   "execution_count": null,
   "metadata": {},
   "outputs": [],
   "source": [
    "print(f\"{datetime.now()} Extracting client data ...\")\n",
    "antenna_gdf = StationaryClientExtractor(aisdk, buffered_antennas)"
   ]
  },
  {
   "cell_type": "code",
   "execution_count": null,
   "metadata": {},
   "outputs": [],
   "source": [
    "stationary_feather_path = f\"{out_dir}/ais-antenna.feather\"\n"
   ]
  },
  {
   "cell_type": "code",
   "execution_count": null,
   "metadata": {},
   "outputs": [],
   "source": [
    "print(f\"{datetime.now()} Writing output to {stationary_feather_path}\")\n",
    "antenna_gdf.to_feather(stationary_feather_path)"
   ]
  },
  {
   "cell_type": "markdown",
   "metadata": {},
   "source": [
    "## Extract mobile client (vessel) data"
   ]
  },
  {
   "cell_type": "code",
   "execution_count": null,
   "metadata": {},
   "outputs": [],
   "source": [
    "ship_type = 'Towing' \n",
    "antenna_radius_meters = 25000  \n",
    "bbox = [57.273, 11.196, 57.998, 12.223]  \n",
    "min_lat, min_lon, max_lat, max_lon = bbox"
   ]
  },
  {
   "cell_type": "code",
   "execution_count": null,
   "metadata": {},
   "outputs": [],
   "source": [
    "mobile_feather_path = f\"{out_dir}/ais-vessels.feather\""
   ]
  },
  {
   "cell_type": "code",
   "execution_count": null,
   "metadata": {},
   "outputs": [],
   "source": [
    "print(f\"{datetime.now()} Loading data from {path}\")\n",
    "aisdk = AISDK(path, min_lon, min_lat, max_lon, max_lat)\n",
    "vessels = deepcopy(aisdk)   # AISDK(path, min_lon, min_lat, max_lon, max_lat, vessel_type)\n",
    "vessels.df = vessels.df[vessels.df.ship_type == ship_type]"
   ]
  },
  {
   "cell_type": "code",
   "execution_count": null,
   "metadata": {},
   "outputs": [],
   "source": [
    "print(f\"{datetime.now()} Extracting client data ...\")\n",
    "vessel_gdf = MobileClientExtractor(aisdk, vessels, antenna_radius_meters)"
   ]
  },
  {
   "cell_type": "code",
   "execution_count": null,
   "metadata": {},
   "outputs": [],
   "source": [
    "print(f\"{datetime.now()} Writing output to {mobile_feather_path}\")\n",
    "vessel_gdf.to_feather(mobile_feather_path)"
   ]
  },
  {
   "cell_type": "markdown",
   "metadata": {},
   "source": [
    "## Prepare stationary and mobile client training data"
   ]
  },
  {
   "cell_type": "code",
   "execution_count": null,
   "metadata": {},
   "outputs": [],
   "source": []
  },
  {
   "cell_type": "code",
   "execution_count": null,
   "metadata": {},
   "outputs": [],
   "source": [
    "h3_resolution = 8\n",
    "\n",
    "stationary_training_file = f\"temp/training-data-stationary.pickle\"\n",
    "mobile_training_file = f\"temp/training-data-mobile.pickle\""
   ]
  },
  {
   "cell_type": "code",
   "execution_count": null,
   "metadata": {},
   "outputs": [],
   "source": [
    "def prepare_training_data(client_feather, outfile):\n",
    "    print(f\"{datetime.now()} Loading data from {client_feather} ...\")\n",
    "    gdf = gpd.read_feather(client_feather)\n",
    "    vessels = gdf.groupby(MOVER_ID)[[\"ship_type\", \"Name\"]].agg(pd.Series.mode)\n",
    "\n",
    "    print(f\"{datetime.now()} Extracting trips ...\")\n",
    "    trajs = TripExtractor(gdf).get_trips( gap_duration=timedelta(minutes=60))  \n",
    "\n",
    "    print(f\"{datetime.now()} Computing trajectory features ...\")\n",
    "    t_df = TrajectoryAggregator(trajs, vessels).aggregate_trajs(h3_resolution)\n",
    "\n",
    "    with open(outfile.replace(\"training-data\", \"vessel\"), \"wb\") as out_file:\n",
    "        pickle.dump(vessels, out_file)\n",
    "\n",
    "    with open(outfile, \"wb\") as out_file:\n",
    "        pickle.dump(t_df, out_file)\n",
    "    print(f\"{datetime.now()} training data written to {outfile}\")\n"
   ]
  },
  {
   "cell_type": "code",
   "execution_count": null,
   "metadata": {},
   "outputs": [],
   "source": [
    "prepare_training_data(stationary_feather_path, stationary_training_file)\n"
   ]
  },
  {
   "cell_type": "code",
   "execution_count": null,
   "metadata": {},
   "outputs": [],
   "source": [
    "prepare_training_data(mobile_feather_path, mobile_training_file)"
   ]
  },
  {
   "cell_type": "markdown",
   "metadata": {},
   "source": [
    "# Federated Learning\n",
    "\n"
   ]
  },
  {
   "cell_type": "code",
   "execution_count": 54,
   "metadata": {},
   "outputs": [],
   "source": [
    "np.random.seed(0)\n",
    "\n",
    "vessel_types = ['Cargo', 'Passenger', 'Tanker'] \n",
    "n_features = 7\n",
    "traj_features = ['speed_max', 'speed_median', 'x_start', 'y_start', 'x_end', 'y_end', 'length'] \n",
    "test_size = 0.33\n",
    "\n",
    "trajectory_classifier_model = SummarizedAISTrajectoryClassifier(vessel_types, n_features)\n"
   ]
  },
  {
   "cell_type": "code",
   "execution_count": 55,
   "metadata": {},
   "outputs": [],
   "source": [
    "from sklearn.metrics import accuracy_score, confusion_matrix\n",
    "import json\n",
    "import os\n",
    "import numpy as np\n",
    "from pandas import DataFrame\n",
    "from mobiml.utils import XYList\n",
    "\n",
    "\n",
    "def display_confusion_matrix(y_test, predictions, labels):\n",
    "    cm = confusion_matrix(y_test, predictions, labels=labels)\n",
    "    cm_df = DataFrame(cm, index=labels, columns=labels)\n",
    "    print(cm_df)\n",
    "\n",
    "\n",
    "def save_metrics(predictions, y_test, scenario_name):\n",
    "    if not os.path.exists(\"output\"):\n",
    "        os.makedirs(\"output\")\n",
    "\n",
    "    metrics = {\"accuracy\": accuracy_score(y_test, predictions)}\n",
    "\n",
    "    out_path = f\"output/fl-global-metrics-{scenario_name}.json\"\n",
    "    print(f\"Saving metrics to {out_path}\")\n",
    "    with open(out_path, \"w\") as fd:\n",
    "        json.dump(metrics, fd)\n",
    "\n",
    "\n",
    "def partition(X: np.ndarray, y: np.ndarray, num_partitions: int) -> XYList:\n",
    "    \"\"\"Split X and y into a number of partitions.\"\"\"\n",
    "    zipped = zip(np.array_split(X, num_partitions), np.array_split(y, num_partitions))\n",
    "    return list(zipped)"
   ]
  },
  {
   "cell_type": "markdown",
   "metadata": {},
   "source": [
    "## Define FL client"
   ]
  },
  {
   "cell_type": "code",
   "execution_count": 56,
   "metadata": {},
   "outputs": [],
   "source": [
    "class AISClient(fl.client.NumPyClient):\n",
    "    \"\"\"Client for FL model\"\"\"\n",
    "\n",
    "    def __init__(self, cid, model, partitions, data_loader) -> None:\n",
    "        super().__init__()\n",
    "        self.cid = int(cid)\n",
    "        self.model = model\n",
    "        \n",
    "        (X_train, y_train), (self.X_test, self.y_test) = data_loader.load(client_id=self.cid)\n",
    "        # Split train set into partitions and randomly use one for training.\n",
    "        partition_id = np.random.choice(partitions)\n",
    "        (self.X_train, self.y_train) = partition(X_train, y_train, partitions)[partition_id]\n",
    "        print(f\"CLIENT {self.cid} started up, will use partition {partition_id} of {partitions} partitions for training\")\n",
    "\n",
    "    def get_parameters(self, config):  # type: ignore\n",
    "        return self.model.get_model_parameters()\n",
    "\n",
    "    def fit(self, parameters, config):  # type: ignore\n",
    "        self.model.set_model_params(parameters)\n",
    "        # Ignore convergence failure due to low local epochs       \n",
    "        with warnings.catch_warnings():\n",
    "            warnings.simplefilter(\"ignore\")\n",
    "            self.model.fit(self.X_train, self.y_train)\n",
    "            accuracy = self.model.score(self.X_train, self.y_train)\n",
    "\n",
    "        print(f\"CLIENT {self.cid} Training finished for round {config['server_round']}\")\n",
    "        return self.model.get_model_parameters(), len(self.X_train), {\"accuracy\": accuracy}\n",
    "\n",
    "    def evaluate(self, parameters, config):  # type: ignore\n",
    "        self.model.set_model_params(parameters)\n",
    "        vessel_types = self.model.classes\n",
    "        loss = log_loss(self.y_test, self.model.predict_proba(self.X_test), labels=vessel_types)\n",
    "        accuracy = self.model.score(self.X_test, self.y_test)\n",
    "        print(f\"CLIENT {self.cid} accuracy {accuracy}\")\n",
    "        return loss, len(self.X_test), {\"accuracy\": accuracy}"
   ]
  },
  {
   "cell_type": "code",
   "execution_count": 57,
   "metadata": {},
   "outputs": [],
   "source": [
    "def generate_client_fn(model, lookup, data_partitions, dloader):\n",
    "    \"\"\" Is called in every training round to initialise a new Client object. \"\"\"\n",
    "\n",
    "    def client_fn(cid: str):     \n",
    "        print(f\"******* {int(lookup[cid])} **********\")\n",
    "        return AISClient(int(lookup[cid]), trajectory_classifier_model, data_partitions, dloader).to_client()\n",
    "\n",
    "    return client_fn"
   ]
  },
  {
   "cell_type": "markdown",
   "metadata": {},
   "source": [
    "## Start FL \n",
    "\n",
    "https://flower.ai/docs/framework/how-to-implement-strategies.html\n",
    "\n",
    "https://flower.ai/docs/framework/ref-api/flwr.simulation.start_simulation.html"
   ]
  },
  {
   "cell_type": "markdown",
   "metadata": {},
   "source": [
    "### FL with static data\n"
   ]
  },
  {
   "cell_type": "code",
   "execution_count": 58,
   "metadata": {},
   "outputs": [
    {
     "name": "stdout",
     "output_type": "stream",
     "text": [
      "Vessel types: ['Cargo', 'Passenger', 'Tanker']\n",
      "Trajectory features: ['speed_max', 'speed_median', 'x_start', 'y_start', 'x_end', 'y_end', 'length']\n",
      "Test size: 0.33\n",
      "Filtering ship_type to ['Cargo', 'Passenger', 'Tanker'] ...\n",
      "... 3960 found.\n",
      "Available trajectory columns: Index(['traj_id', 'start_t', 'end_t', 'geometry', 'length', 'direction',\n",
      "       'client', 'mover_id', 'speed_max', 'speed_median', 'H3_seq',\n",
      "       'speed_start', 'direction_start', 'x_start', 'y_start', 'speed_end',\n",
      "       'direction_end', 'x_end', 'y_end', 'ship_type'],\n",
      "      dtype='object')\n",
      "2024-09-02 10:31:52.126697 Splitting dataset ...\n",
      "Using 807 movers for training and 398 for testing ...\n",
      "(2647 trajectories for training and 1313 for testing)\n"
     ]
    }
   ],
   "source": [
    "static_data_loader = AISLoader(vessel_types, traj_features, test_size, path=stationary_training_file)\n",
    "static_scenario_name = Path(stationary_training_file).stem.replace(\"training-data-\", \"\")\n",
    "\n",
    "\n",
    "static_strategy = fl.server.strategy.FedAvg(\n",
    "        min_available_clients=2,\n",
    "        evaluate_fn=get_evaluate_fn(trajectory_classifier_model, static_data_loader, static_scenario_name),\n",
    "        on_fit_config_fn=fit_round,\n",
    "        evaluate_metrics_aggregation_fn=weighted_average,\n",
    "        fit_metrics_aggregation_fn=weighted_average,\n",
    "    )"
   ]
  },
  {
   "cell_type": "code",
   "execution_count": 61,
   "metadata": {},
   "outputs": [
    {
     "name": "stderr",
     "output_type": "stream",
     "text": [
      "\u001b[92mINFO \u001b[0m:      Starting Flower simulation, config: num_rounds=10, no round_timeout\n"
     ]
    },
    {
     "name": "stdout",
     "output_type": "stream",
     "text": [
      "2024-09-02 10:33:01.494999 Starting training\n"
     ]
    },
    {
     "name": "stderr",
     "output_type": "stream",
     "text": [
      "2024-09-02 10:33:06,797\tINFO worker.py:1621 -- Started a local Ray instance.\n",
      "\u001b[92mINFO \u001b[0m:      Flower VCE: Ray initialized with resources: {'CPU': 12.0, 'node:__internal_head__': 1.0, 'node:10.103.41.38': 1.0, 'object_store_memory': 3302055936.0, 'memory': 6604111872.0}\n",
      "\u001b[92mINFO \u001b[0m:      Optimize your simulation with Flower VCE: https://flower.ai/docs/framework/how-to-run-simulations.html\n",
      "\u001b[92mINFO \u001b[0m:      No `client_resources` specified. Using minimal resources for clients.\n",
      "\u001b[92mINFO \u001b[0m:      Flower VCE: Resources for each Virtual Client: {'num_cpus': 1, 'num_gpus': 0.0}\n",
      "\u001b[92mINFO \u001b[0m:      Flower VCE: Creating VirtualClientEngineActorPool with 12 actors\n",
      "\u001b[92mINFO \u001b[0m:      [INIT]\n",
      "\u001b[92mINFO \u001b[0m:      Requesting initial parameters from one random client\n",
      "\u001b[2m\u001b[33m(raylet)\u001b[0m [2024-09-02 10:33:08,815 I 55937 55937] logging.cc:230: Set ray log level from environment variable RAY_BACKEND_LOG_LEVEL to 3\n",
      "\u001b[2m\u001b[33m(raylet)\u001b[0m [2024-09-02 10:33:08,815 I 55943 55943] logging.cc:230: Set ray log level from environment variable RAY_BACKEND_LOG_LEVEL to 3\n",
      "\u001b[2m\u001b[33m(raylet)\u001b[0m [2024-09-02 10:33:08,818 I 55933 55933] logging.cc:230: Set ray log level from environment variable RAY_BACKEND_LOG_LEVEL to 3\n",
      "\u001b[2m\u001b[33m(raylet)\u001b[0m [2024-09-02 10:33:08,825 I 55935 55935] logging.cc:230: Set ray log level from environment variable RAY_BACKEND_LOG_LEVEL to 3\n",
      "\u001b[2m\u001b[33m(raylet)\u001b[0m [2024-09-02 10:33:08,833 I 55940 55940] logging.cc:230: Set ray log level from environment variable RAY_BACKEND_LOG_LEVEL to 3\n",
      "\u001b[2m\u001b[33m(raylet)\u001b[0m [2024-09-02 10:33:08,835 I 55934 55934] logging.cc:230: Set ray log level from environment variable RAY_BACKEND_LOG_LEVEL to 3\n",
      "\u001b[2m\u001b[33m(raylet)\u001b[0m [2024-09-02 10:33:08,842 I 55944 55944] logging.cc:230: Set ray log level from environment variable RAY_BACKEND_LOG_LEVEL to 3\n",
      "\u001b[2m\u001b[33m(raylet)\u001b[0m [2024-09-02 10:33:08,858 I 55942 55942] logging.cc:230: Set ray log level from environment variable RAY_BACKEND_LOG_LEVEL to 3\n",
      "\u001b[2m\u001b[33m(raylet)\u001b[0m [2024-09-02 10:33:08,870 I 55939 55939] logging.cc:230: Set ray log level from environment variable RAY_BACKEND_LOG_LEVEL to 3\n",
      "\u001b[2m\u001b[33m(raylet)\u001b[0m [2024-09-02 10:33:08,889 I 55938 55938] logging.cc:230: Set ray log level from environment variable RAY_BACKEND_LOG_LEVEL to 3\n",
      "\u001b[2m\u001b[33m(raylet)\u001b[0m [2024-09-02 10:33:08,927 I 55941 55941] logging.cc:230: Set ray log level from environment variable RAY_BACKEND_LOG_LEVEL to 3\n",
      "\u001b[2m\u001b[33m(raylet)\u001b[0m [2024-09-02 10:33:08,936 I 55945 55945] logging.cc:230: Set ray log level from environment variable RAY_BACKEND_LOG_LEVEL to 3\n"
     ]
    },
    {
     "name": "stdout",
     "output_type": "stream",
     "text": [
      "\u001b[2m\u001b[36m(ClientAppActor pid=55945)\u001b[0m ******* 0 **********\n",
      "\u001b[2m\u001b[36m(ClientAppActor pid=55945)\u001b[0m Vessel types: ['Cargo', 'Passenger', 'Tanker']\n",
      "\u001b[2m\u001b[36m(ClientAppActor pid=55945)\u001b[0m Trajectory features: ['speed_max', 'speed_median', 'x_start', 'y_start', 'x_end', 'y_end', 'length']\n",
      "\u001b[2m\u001b[36m(ClientAppActor pid=55945)\u001b[0m Test size: 0.33\n",
      "\u001b[2m\u001b[36m(ClientAppActor pid=55945)\u001b[0m Filtering ship_type to ['Cargo', 'Passenger', 'Tanker'] ...\n",
      "\u001b[2m\u001b[36m(ClientAppActor pid=55945)\u001b[0m ... 3960 found.\n"
     ]
    },
    {
     "name": "stderr",
     "output_type": "stream",
     "text": [
      "\u001b[92mINFO \u001b[0m:      Received initial parameters from one random client\n",
      "\u001b[92mINFO \u001b[0m:      Evaluating initial global parameters\n",
      "\u001b[92mINFO \u001b[0m:      initial parameters (loss, other metrics): 0.9587302956179196, {'accuracy': 0.5102817974105103}\n",
      "\u001b[92mINFO \u001b[0m:      \n",
      "\u001b[92mINFO \u001b[0m:      [ROUND 1]\n",
      "\u001b[92mINFO \u001b[0m:      configure_fit: strategy sampled 3 clients (out of 3)\n"
     ]
    },
    {
     "name": "stdout",
     "output_type": "stream",
     "text": [
      "\u001b[2m\u001b[36m(ClientAppActor pid=55945)\u001b[0m Available trajectory columns: Index(['traj_id', 'start_t', 'end_t', 'geometry', 'length', 'direction',\n",
      "\u001b[2m\u001b[36m(ClientAppActor pid=55945)\u001b[0m        'client', 'mover_id', 'speed_max', 'speed_median', 'H3_seq',\n",
      "\u001b[2m\u001b[36m(ClientAppActor pid=55945)\u001b[0m        'speed_start', 'direction_start', 'x_start', 'y_start', 'speed_end',\n",
      "\u001b[2m\u001b[36m(ClientAppActor pid=55945)\u001b[0m        'direction_end', 'x_end', 'y_end', 'ship_type'],\n",
      "\u001b[2m\u001b[36m(ClientAppActor pid=55945)\u001b[0m       dtype='object')\n",
      "Accuracy 0.5102817974105103\n",
      "\u001b[2m\u001b[36m(ClientAppActor pid=55945)\u001b[0m 2024-09-02 10:33:11.823832 Splitting dataset ...\n",
      "\u001b[2m\u001b[36m(ClientAppActor pid=55945)\u001b[0m Using 807 movers for training and 398 for testing ...\n",
      "\u001b[2m\u001b[36m(ClientAppActor pid=55945)\u001b[0m (2647 trajectories for training and 1313 for testing)\n",
      "\u001b[2m\u001b[36m(ClientAppActor pid=55945)\u001b[0m CLIENT 0 started up, will use partition 1 of 2 partitions for training\n",
      "\u001b[2m\u001b[36m(ClientAppActor pid=55945)\u001b[0m ******* 0 **********\n",
      "\u001b[2m\u001b[36m(ClientAppActor pid=55945)\u001b[0m Vessel types: ['Cargo', 'Passenger', 'Tanker']\n",
      "\u001b[2m\u001b[36m(ClientAppActor pid=55945)\u001b[0m Trajectory features: ['speed_max', 'speed_median', 'x_start', 'y_start', 'x_end', 'y_end', 'length']\n",
      "\u001b[2m\u001b[36m(ClientAppActor pid=55945)\u001b[0m Test size: 0.33\n",
      "\u001b[2m\u001b[36m(ClientAppActor pid=55945)\u001b[0m Filtering ship_type to ['Cargo', 'Passenger', 'Tanker'] ...\n",
      "\u001b[2m\u001b[36m(ClientAppActor pid=55945)\u001b[0m ... 3960 found.\n",
      "\u001b[2m\u001b[36m(ClientAppActor pid=55945)\u001b[0m Available trajectory columns: Index(['traj_id', 'start_t', 'end_t', 'geometry', 'length', 'direction',\n",
      "\u001b[2m\u001b[36m(ClientAppActor pid=55945)\u001b[0m        'client', 'mover_id', 'speed_max', 'speed_median', 'H3_seq',\n",
      "\u001b[2m\u001b[36m(ClientAppActor pid=55945)\u001b[0m        'speed_start', 'direction_start', 'x_start', 'y_start', 'speed_end',\n",
      "\u001b[2m\u001b[36m(ClientAppActor pid=55945)\u001b[0m        'direction_end', 'x_end', 'y_end', 'ship_type'],\n",
      "\u001b[2m\u001b[36m(ClientAppActor pid=55945)\u001b[0m       dtype='object')\n",
      "\u001b[2m\u001b[36m(ClientAppActor pid=55945)\u001b[0m 2024-09-02 10:33:12.081398 Splitting dataset ...\n",
      "\u001b[2m\u001b[36m(ClientAppActor pid=55945)\u001b[0m Using 807 movers for training and 398 for testing ...\n",
      "\u001b[2m\u001b[36m(ClientAppActor pid=55945)\u001b[0m (2647 trajectories for training and 1313 for testing)\n",
      "\u001b[2m\u001b[36m(ClientAppActor pid=55945)\u001b[0m CLIENT 0 started up, will use partition 1 of 2 partitions for training\n",
      "\u001b[2m\u001b[36m(ClientAppActor pid=55945)\u001b[0m CLIENT 0 Training finished for round 1\n"
     ]
    },
    {
     "name": "stderr",
     "output_type": "stream",
     "text": [
      "\u001b[92mINFO \u001b[0m:      aggregate_fit: received 3 results and 0 failures\n",
      "\u001b[92mINFO \u001b[0m:      fit progress: (1, 0.9852104183330533, {'accuracy': 0.4607768469154608}, 2.4913640079994366)\n",
      "\u001b[92mINFO \u001b[0m:      configure_evaluate: strategy sampled 3 clients (out of 3)\n"
     ]
    },
    {
     "name": "stdout",
     "output_type": "stream",
     "text": [
      "\u001b[2m\u001b[36m(ClientAppActor pid=55943)\u001b[0m Client id: 2\n",
      "\u001b[2m\u001b[36m(ClientAppActor pid=55943)\u001b[0m Filtering client to 2 ...\n",
      "Accuracy 0.4607768469154608\n"
     ]
    },
    {
     "name": "stderr",
     "output_type": "stream",
     "text": [
      "\u001b[92mINFO \u001b[0m:      aggregate_evaluate: received 3 results and 0 failures\n",
      "\u001b[92mINFO \u001b[0m:      \n",
      "\u001b[92mINFO \u001b[0m:      [ROUND 2]\n",
      "\u001b[92mINFO \u001b[0m:      configure_fit: strategy sampled 3 clients (out of 3)\n"
     ]
    },
    {
     "name": "stdout",
     "output_type": "stream",
     "text": [
      "\u001b[2m\u001b[36m(ClientAppActor pid=55944)\u001b[0m CLIENT 1 accuracy 0.0\n"
     ]
    },
    {
     "name": "stderr",
     "output_type": "stream",
     "text": [
      "\u001b[92mINFO \u001b[0m:      aggregate_fit: received 3 results and 0 failures\n",
      "\u001b[92mINFO \u001b[0m:      fit progress: (2, 0.992255203604182, {'accuracy': 0.4607768469154608}, 3.0244784539991088)\n",
      "\u001b[92mINFO \u001b[0m:      configure_evaluate: strategy sampled 3 clients (out of 3)\n"
     ]
    },
    {
     "name": "stdout",
     "output_type": "stream",
     "text": [
      "Accuracy 0.4607768469154608\n"
     ]
    },
    {
     "name": "stderr",
     "output_type": "stream",
     "text": [
      "\u001b[92mINFO \u001b[0m:      aggregate_evaluate: received 3 results and 0 failures\n",
      "\u001b[92mINFO \u001b[0m:      \n",
      "\u001b[92mINFO \u001b[0m:      [ROUND 3]\n",
      "\u001b[92mINFO \u001b[0m:      configure_fit: strategy sampled 3 clients (out of 3)\n",
      "\u001b[92mINFO \u001b[0m:      aggregate_fit: received 3 results and 0 failures\n",
      "\u001b[92mINFO \u001b[0m:      fit progress: (3, 0.9982404688754756, {'accuracy': 0.456968773800457}, 3.5387142170002335)\n",
      "\u001b[92mINFO \u001b[0m:      configure_evaluate: strategy sampled 3 clients (out of 3)\n"
     ]
    },
    {
     "name": "stdout",
     "output_type": "stream",
     "text": [
      "Accuracy 0.456968773800457\n"
     ]
    },
    {
     "name": "stderr",
     "output_type": "stream",
     "text": [
      "\u001b[92mINFO \u001b[0m:      aggregate_evaluate: received 3 results and 0 failures\n",
      "\u001b[92mINFO \u001b[0m:      \n",
      "\u001b[92mINFO \u001b[0m:      [ROUND 4]\n",
      "\u001b[92mINFO \u001b[0m:      configure_fit: strategy sampled 3 clients (out of 3)\n",
      "\u001b[92mINFO \u001b[0m:      aggregate_fit: received 3 results and 0 failures\n",
      "\u001b[92mINFO \u001b[0m:      fit progress: (4, 0.9958393173488802, {'accuracy': 0.45773038842345776}, 4.125544176999028)\n",
      "\u001b[92mINFO \u001b[0m:      configure_evaluate: strategy sampled 3 clients (out of 3)\n"
     ]
    },
    {
     "name": "stdout",
     "output_type": "stream",
     "text": [
      "Accuracy 0.45773038842345776\n"
     ]
    },
    {
     "name": "stderr",
     "output_type": "stream",
     "text": [
      "\u001b[92mINFO \u001b[0m:      aggregate_evaluate: received 3 results and 0 failures\n",
      "\u001b[92mINFO \u001b[0m:      \n",
      "\u001b[92mINFO \u001b[0m:      [ROUND 5]\n",
      "\u001b[92mINFO \u001b[0m:      configure_fit: strategy sampled 3 clients (out of 3)\n",
      "\u001b[92mINFO \u001b[0m:      aggregate_fit: received 3 results and 0 failures\n",
      "\u001b[92mINFO \u001b[0m:      fit progress: (5, 0.9896437601082371, {'accuracy': 0.46534653465346537}, 4.628641829000117)\n",
      "\u001b[92mINFO \u001b[0m:      configure_evaluate: strategy sampled 3 clients (out of 3)\n"
     ]
    },
    {
     "name": "stdout",
     "output_type": "stream",
     "text": [
      "Accuracy 0.46534653465346537\n",
      "\u001b[2m\u001b[36m(ClientAppActor pid=55945)\u001b[0m ******* 1 **********\u001b[32m [repeated 29x across cluster]\u001b[0m\n",
      "\u001b[2m\u001b[36m(ClientAppActor pid=55945)\u001b[0m Vessel types: ['Cargo', 'Passenger', 'Tanker']\u001b[32m [repeated 29x across cluster]\u001b[0m\n",
      "\u001b[2m\u001b[36m(ClientAppActor pid=55945)\u001b[0m Trajectory features: ['speed_max', 'speed_median', 'x_start', 'y_start', 'x_end', 'y_end', 'length']\u001b[32m [repeated 29x across cluster]\u001b[0m\n",
      "\u001b[2m\u001b[36m(ClientAppActor pid=55945)\u001b[0m Test size: 0.33\u001b[32m [repeated 29x across cluster]\u001b[0m\n"
     ]
    },
    {
     "name": "stderr",
     "output_type": "stream",
     "text": [
      "\u001b[92mINFO \u001b[0m:      aggregate_evaluate: received 3 results and 0 failures\n",
      "\u001b[92mINFO \u001b[0m:      \n",
      "\u001b[92mINFO \u001b[0m:      [ROUND 6]\n",
      "\u001b[92mINFO \u001b[0m:      configure_fit: strategy sampled 3 clients (out of 3)\n"
     ]
    },
    {
     "name": "stdout",
     "output_type": "stream",
     "text": [
      "\u001b[2m\u001b[36m(ClientAppActor pid=55945)\u001b[0m Filtering ship_type to ['Cargo', 'Passenger', 'Tanker'] ...\u001b[32m [repeated 29x across cluster]\u001b[0m\n",
      "\u001b[2m\u001b[36m(ClientAppActor pid=55945)\u001b[0m ... 707 found.\u001b[32m [repeated 49x across cluster]\u001b[0m\n",
      "\u001b[2m\u001b[36m(ClientAppActor pid=55945)\u001b[0m Available trajectory columns: Index(['traj_id', 'start_t', 'end_t', 'geometry', 'length', 'direction',\u001b[32m [repeated 29x across cluster]\u001b[0m\n",
      "\u001b[2m\u001b[36m(ClientAppActor pid=55945)\u001b[0m        'client', 'mover_id', 'speed_max', 'speed_median', 'H3_seq',\u001b[32m [repeated 29x across cluster]\u001b[0m\n",
      "\u001b[2m\u001b[36m(ClientAppActor pid=55945)\u001b[0m        'speed_start', 'direction_start', 'x_start', 'y_start', 'speed_end',\u001b[32m [repeated 29x across cluster]\u001b[0m\n",
      "\u001b[2m\u001b[36m(ClientAppActor pid=55945)\u001b[0m        'direction_end', 'x_end', 'y_end', 'ship_type'],\u001b[32m [repeated 29x across cluster]\u001b[0m\n",
      "\u001b[2m\u001b[36m(ClientAppActor pid=55945)\u001b[0m       dtype='object')\u001b[32m [repeated 29x across cluster]\u001b[0m\n"
     ]
    },
    {
     "name": "stderr",
     "output_type": "stream",
     "text": [
      "\u001b[92mINFO \u001b[0m:      aggregate_fit: received 3 results and 0 failures\n",
      "\u001b[92mINFO \u001b[0m:      fit progress: (6, 0.9936430281784375, {'accuracy': 0.46001523229246}, 5.156842242000494)\n",
      "\u001b[92mINFO \u001b[0m:      configure_evaluate: strategy sampled 3 clients (out of 3)\n"
     ]
    },
    {
     "name": "stdout",
     "output_type": "stream",
     "text": [
      "\u001b[2m\u001b[36m(ClientAppActor pid=55943)\u001b[0m 2024-09-02 10:33:16.907672 Splitting dataset ...\u001b[32m [repeated 30x across cluster]\u001b[0m\n",
      "\u001b[2m\u001b[36m(ClientAppActor pid=55943)\u001b[0m Using 205 movers for training and 102 for testing ...\u001b[32m [repeated 30x across cluster]\u001b[0m\n",
      "\u001b[2m\u001b[36m(ClientAppActor pid=55943)\u001b[0m (520 trajectories for training and 187 for testing)\u001b[32m [repeated 30x across cluster]\u001b[0m\n",
      "\u001b[2m\u001b[36m(ClientAppActor pid=55943)\u001b[0m CLIENT 1 started up, will use partition 1 of 2 partitions for training\u001b[32m [repeated 30x across cluster]\u001b[0m\n",
      "Accuracy 0.46001523229246\n"
     ]
    },
    {
     "name": "stderr",
     "output_type": "stream",
     "text": [
      "\u001b[92mINFO \u001b[0m:      aggregate_evaluate: received 3 results and 0 failures\n",
      "\u001b[92mINFO \u001b[0m:      \n",
      "\u001b[92mINFO \u001b[0m:      [ROUND 7]\n",
      "\u001b[92mINFO \u001b[0m:      configure_fit: strategy sampled 3 clients (out of 3)\n"
     ]
    },
    {
     "name": "stdout",
     "output_type": "stream",
     "text": [
      "\u001b[2m\u001b[36m(ClientAppActor pid=55945)\u001b[0m CLIENT 2 Training finished for round 6\u001b[32m [repeated 17x across cluster]\u001b[0m\n"
     ]
    },
    {
     "name": "stderr",
     "output_type": "stream",
     "text": [
      "\u001b[92mINFO \u001b[0m:      aggregate_fit: received 3 results and 0 failures\n",
      "\u001b[92mINFO \u001b[0m:      fit progress: (7, 0.9900339826970359, {'accuracy': 0.46153846153846156}, 5.667923245000566)\n",
      "\u001b[92mINFO \u001b[0m:      configure_evaluate: strategy sampled 3 clients (out of 3)\n"
     ]
    },
    {
     "name": "stdout",
     "output_type": "stream",
     "text": [
      "Accuracy 0.46153846153846156\n"
     ]
    },
    {
     "name": "stderr",
     "output_type": "stream",
     "text": [
      "\u001b[92mINFO \u001b[0m:      aggregate_evaluate: received 3 results and 0 failures\n",
      "\u001b[92mINFO \u001b[0m:      \n",
      "\u001b[92mINFO \u001b[0m:      [ROUND 8]\n",
      "\u001b[92mINFO \u001b[0m:      configure_fit: strategy sampled 3 clients (out of 3)\n",
      "\u001b[92mINFO \u001b[0m:      aggregate_fit: received 3 results and 0 failures\n",
      "\u001b[92mINFO \u001b[0m:      fit progress: (8, 0.9919529683778454, {'accuracy': 0.46153846153846156}, 6.177679098000226)\n",
      "\u001b[92mINFO \u001b[0m:      configure_evaluate: strategy sampled 3 clients (out of 3)\n"
     ]
    },
    {
     "name": "stdout",
     "output_type": "stream",
     "text": [
      "Accuracy 0.46153846153846156\n"
     ]
    },
    {
     "name": "stderr",
     "output_type": "stream",
     "text": [
      "\u001b[92mINFO \u001b[0m:      aggregate_evaluate: received 3 results and 0 failures\n",
      "\u001b[92mINFO \u001b[0m:      \n",
      "\u001b[92mINFO \u001b[0m:      [ROUND 9]\n",
      "\u001b[92mINFO \u001b[0m:      configure_fit: strategy sampled 3 clients (out of 3)\n",
      "\u001b[92mINFO \u001b[0m:      aggregate_fit: received 3 results and 0 failures\n",
      "\u001b[92mINFO \u001b[0m:      fit progress: (9, 0.9846198428348729, {'accuracy': 0.4607768469154608}, 6.833323708000535)\n",
      "\u001b[92mINFO \u001b[0m:      configure_evaluate: strategy sampled 3 clients (out of 3)\n"
     ]
    },
    {
     "name": "stdout",
     "output_type": "stream",
     "text": [
      "Accuracy 0.4607768469154608\n"
     ]
    },
    {
     "name": "stderr",
     "output_type": "stream",
     "text": [
      "\u001b[92mINFO \u001b[0m:      aggregate_evaluate: received 3 results and 0 failures\n",
      "\u001b[92mINFO \u001b[0m:      \n",
      "\u001b[92mINFO \u001b[0m:      [ROUND 10]\n",
      "\u001b[92mINFO \u001b[0m:      configure_fit: strategy sampled 3 clients (out of 3)\n",
      "\u001b[92mINFO \u001b[0m:      aggregate_fit: received 3 results and 0 failures\n",
      "\u001b[92mINFO \u001b[0m:      fit progress: (10, 0.9848967683119845, {'accuracy': 0.4668697638994669}, 7.346820446999118)\n",
      "\u001b[92mINFO \u001b[0m:      configure_evaluate: strategy sampled 3 clients (out of 3)\n"
     ]
    },
    {
     "name": "stdout",
     "output_type": "stream",
     "text": [
      "Accuracy 0.4668697638994669\n",
      "\u001b[2m\u001b[36m(ClientAppActor pid=55945)\u001b[0m Client id: 2\u001b[32m [repeated 37x across cluster]\u001b[0m\n",
      "\u001b[2m\u001b[36m(ClientAppActor pid=55944)\u001b[0m Filtering client to 1 ...\u001b[32m [repeated 38x across cluster]\u001b[0m\n"
     ]
    },
    {
     "name": "stderr",
     "output_type": "stream",
     "text": [
      "\u001b[92mINFO \u001b[0m:      aggregate_evaluate: received 3 results and 0 failures\n",
      "\u001b[92mINFO \u001b[0m:      \n",
      "\u001b[92mINFO \u001b[0m:      [SUMMARY]\n",
      "\u001b[92mINFO \u001b[0m:      Run finished 10 round(s) in 7.60s\n",
      "\u001b[92mINFO \u001b[0m:      \tHistory (loss, distributed):\n",
      "\u001b[92mINFO \u001b[0m:      \t\tround 1: 0.9429875792908189\n",
      "\u001b[92mINFO \u001b[0m:      \t\tround 2: 0.9440935158012854\n",
      "\u001b[92mINFO \u001b[0m:      \t\tround 3: 0.9453010630892211\n",
      "\u001b[92mINFO \u001b[0m:      \t\tround 4: 0.9434104017673705\n",
      "\u001b[92mINFO \u001b[0m:      \t\tround 5: 0.9398809106754858\n",
      "\u001b[92mINFO \u001b[0m:      \t\tround 6: 0.9398957438494122\n",
      "\u001b[92mINFO \u001b[0m:      \t\tround 7: 0.9374208287189824\n",
      "\u001b[92mINFO \u001b[0m:      \t\tround 8: 0.936680760427797\n",
      "\u001b[92mINFO \u001b[0m:      \t\tround 9: 0.9329039073167604\n",
      "\u001b[92mINFO \u001b[0m:      \t\tround 10: 0.9317513933846465\n",
      "\u001b[92mINFO \u001b[0m:      \tHistory (loss, centralized):\n",
      "\u001b[92mINFO \u001b[0m:      \t\tround 0: 0.9587302956179196\n",
      "\u001b[92mINFO \u001b[0m:      \t\tround 1: 0.9852104183330533\n",
      "\u001b[92mINFO \u001b[0m:      \t\tround 2: 0.992255203604182\n",
      "\u001b[92mINFO \u001b[0m:      \t\tround 3: 0.9982404688754756\n",
      "\u001b[92mINFO \u001b[0m:      \t\tround 4: 0.9958393173488802\n",
      "\u001b[92mINFO \u001b[0m:      \t\tround 5: 0.9896437601082371\n",
      "\u001b[92mINFO \u001b[0m:      \t\tround 6: 0.9936430281784375\n",
      "\u001b[92mINFO \u001b[0m:      \t\tround 7: 0.9900339826970359\n",
      "\u001b[92mINFO \u001b[0m:      \t\tround 8: 0.9919529683778454\n",
      "\u001b[92mINFO \u001b[0m:      \t\tround 9: 0.9846198428348729\n",
      "\u001b[92mINFO \u001b[0m:      \t\tround 10: 0.9848967683119845\n",
      "\u001b[92mINFO \u001b[0m:      \tHistory (metrics, distributed, fit):\n",
      "\u001b[92mINFO \u001b[0m:      \t{'accuracy': [(1, 0.5664225941422594),\n",
      "\u001b[92mINFO \u001b[0m:      \t              (2, 0.5624673288029274),\n",
      "\u001b[92mINFO \u001b[0m:      \t              (3, 0.5774058577405857),\n",
      "\u001b[92mINFO \u001b[0m:      \t              (4, 0.5679916317991632),\n",
      "\u001b[92mINFO \u001b[0m:      \t              (5, 0.5582854155776268),\n",
      "\u001b[92mINFO \u001b[0m:      \t              (6, 0.5763598326359832),\n",
      "\u001b[92mINFO \u001b[0m:      \t              (7, 0.5656037637219028),\n",
      "\u001b[92mINFO \u001b[0m:      \t              (8, 0.5666492420282279),\n",
      "\u001b[92mINFO \u001b[0m:      \t              (9, 0.5559623430962343),\n",
      "\u001b[92mINFO \u001b[0m:      \t              (10, 0.5608991113434396)]}\n",
      "\u001b[92mINFO \u001b[0m:      \tHistory (metrics, distributed, evaluate):\n",
      "\u001b[92mINFO \u001b[0m:      \t{'accuracy': [(1, 0.0),\n",
      "\u001b[92mINFO \u001b[0m:      \t              (2, 0.0),\n",
      "\u001b[92mINFO \u001b[0m:      \t              (3, 0.0),\n",
      "\u001b[92mINFO \u001b[0m:      \t              (4, 0.0),\n",
      "\u001b[92mINFO \u001b[0m:      \t              (5, 0.0),\n",
      "\u001b[92mINFO \u001b[0m:      \t              (6, 0.0),\n",
      "\u001b[92mINFO \u001b[0m:      \t              (7, 0.0),\n",
      "\u001b[92mINFO \u001b[0m:      \t              (8, 0.0),\n",
      "\u001b[92mINFO \u001b[0m:      \t              (9, 0.0),\n",
      "\u001b[92mINFO \u001b[0m:      \t              (10, 0.0)]}\n",
      "\u001b[92mINFO \u001b[0m:      \tHistory (metrics, centralized):\n",
      "\u001b[92mINFO \u001b[0m:      \t{'accuracy': [(0, 0.5102817974105103),\n",
      "\u001b[92mINFO \u001b[0m:      \t              (1, 0.4607768469154608),\n",
      "\u001b[92mINFO \u001b[0m:      \t              (2, 0.4607768469154608),\n",
      "\u001b[92mINFO \u001b[0m:      \t              (3, 0.456968773800457),\n",
      "\u001b[92mINFO \u001b[0m:      \t              (4, 0.45773038842345776),\n",
      "\u001b[92mINFO \u001b[0m:      \t              (5, 0.46534653465346537),\n",
      "\u001b[92mINFO \u001b[0m:      \t              (6, 0.46001523229246),\n",
      "\u001b[92mINFO \u001b[0m:      \t              (7, 0.46153846153846156),\n",
      "\u001b[92mINFO \u001b[0m:      \t              (8, 0.46153846153846156),\n",
      "\u001b[92mINFO \u001b[0m:      \t              (9, 0.4607768469154608),\n",
      "\u001b[92mINFO \u001b[0m:      \t              (10, 0.4668697638994669)]}\n",
      "\u001b[92mINFO \u001b[0m:      \n"
     ]
    },
    {
     "name": "stdout",
     "output_type": "stream",
     "text": [
      "2024-09-02 10:33:19.487282 Training done\n",
      "\u001b[2m\u001b[36m(ClientAppActor pid=55943)\u001b[0m 2024-09-02 10:33:19.429542 Splitting dataset ...\n",
      "\u001b[2m\u001b[36m(ClientAppActor pid=55943)\u001b[0m Using 807 movers for training and 398 for testing ...\n",
      "\u001b[2m\u001b[36m(ClientAppActor pid=55943)\u001b[0m (2647 trajectories for training and 1313 for testing)\n",
      "\u001b[2m\u001b[36m(ClientAppActor pid=55943)\u001b[0m CLIENT 0 started up, will use partition 1 of 2 partitions for training\n",
      "\u001b[2m\u001b[36m(ClientAppActor pid=55943)\u001b[0m CLIENT 0 accuracy 0.0\n"
     ]
    }
   ],
   "source": [
    "clients_per_round = 3\n",
    "rounds = 10\n",
    "client_data_partitions = 2\n",
    "\n",
    "client_mapping = {  # flwr client id -> MMSI\n",
    "     '0': 0,\n",
    "     '1': 1,\n",
    "     '2': 2,\n",
    "}\n",
    "\n",
    "\n",
    "client_fn = generate_client_fn(trajectory_classifier_model, client_mapping, client_data_partitions, static_data_loader)\n",
    "\n",
    "print(f\"{datetime.now()} Starting training\")\n",
    "\n",
    "fl.simulation.start_simulation(\n",
    "        client_fn=client_fn,\n",
    "        num_clients=clients_per_round,\n",
    "        config=fl.server.ServerConfig(num_rounds=rounds),\n",
    "        strategy=static_strategy\n",
    ")\n",
    "print(f\"{datetime.now()} Training done\")"
   ]
  },
  {
   "cell_type": "code",
   "execution_count": 62,
   "metadata": {},
   "outputs": [],
   "source": [
    "tdf = pd.read_pickle(mobile_training_file)"
   ]
  },
  {
   "cell_type": "code",
   "execution_count": 65,
   "metadata": {},
   "outputs": [
    {
     "data": {
      "text/plain": [
       "array([219012959, 236111925, 235662000, 265737220])"
      ]
     },
     "execution_count": 65,
     "metadata": {},
     "output_type": "execute_result"
    }
   ],
   "source": [
    "tdf.client.unique()"
   ]
  },
  {
   "cell_type": "markdown",
   "metadata": {},
   "source": [
    "### FL with mobile data"
   ]
  },
  {
   "cell_type": "code",
   "execution_count": 67,
   "metadata": {},
   "outputs": [
    {
     "name": "stdout",
     "output_type": "stream",
     "text": [
      "Vessel types: ['Cargo', 'Passenger', 'Tanker']\n",
      "Trajectory features: ['speed_max', 'speed_median', 'x_start', 'y_start', 'x_end', 'y_end', 'length']\n",
      "Test size: 0.33\n",
      "Filtering ship_type to ['Cargo', 'Passenger', 'Tanker'] ...\n",
      "... 3263 found.\n",
      "Available trajectory columns: Index(['traj_id', 'start_t', 'end_t', 'geometry', 'length', 'direction',\n",
      "       'client', 'mover_id', 'speed_max', 'speed_median', 'H3_seq',\n",
      "       'speed_start', 'direction_start', 'x_start', 'y_start', 'speed_end',\n",
      "       'direction_end', 'x_end', 'y_end', 'ship_type'],\n",
      "      dtype='object')\n",
      "2024-09-02 10:36:28.861506 Splitting dataset ...\n",
      "Using 776 movers for training and 383 for testing ...\n",
      "(2242 trajectories for training and 1021 for testing)\n"
     ]
    }
   ],
   "source": [
    "mobile_data_loader = AISLoader(vessel_types, traj_features, test_size, path=mobile_training_file)\n",
    "mobile_scenario_name = Path(mobile_training_file).stem.replace(\"training-data-\", \"\")\n",
    "\n",
    "\n",
    "mobile_strategy = fl.server.strategy.FedAvg(\n",
    "        min_available_clients=2,\n",
    "        evaluate_fn=get_evaluate_fn(trajectory_classifier_model, mobile_data_loader, mobile_scenario_name),\n",
    "        on_fit_config_fn=fit_round,\n",
    "        evaluate_metrics_aggregation_fn=weighted_average,\n",
    "        fit_metrics_aggregation_fn=weighted_average,\n",
    "    )"
   ]
  },
  {
   "cell_type": "code",
   "execution_count": null,
   "metadata": {},
   "outputs": [
    {
     "name": "stderr",
     "output_type": "stream",
     "text": [
      "\u001b[92mINFO \u001b[0m:      Starting Flower simulation, config: num_rounds=10, no round_timeout\n"
     ]
    },
    {
     "name": "stdout",
     "output_type": "stream",
     "text": [
      "2024-09-02 10:36:55.382806 Starting training\n"
     ]
    },
    {
     "name": "stderr",
     "output_type": "stream",
     "text": [
      "2024-09-02 10:37:00,599\tINFO worker.py:1621 -- Started a local Ray instance.\n",
      "\u001b[92mINFO \u001b[0m:      Flower VCE: Ray initialized with resources: {'node:10.103.41.38': 1.0, 'object_store_memory': 3244908134.0, 'memory': 6489816270.0, 'CPU': 12.0, 'node:__internal_head__': 1.0}\n",
      "\u001b[92mINFO \u001b[0m:      Optimize your simulation with Flower VCE: https://flower.ai/docs/framework/how-to-run-simulations.html\n",
      "\u001b[92mINFO \u001b[0m:      No `client_resources` specified. Using minimal resources for clients.\n",
      "\u001b[92mINFO \u001b[0m:      Flower VCE: Resources for each Virtual Client: {'num_cpus': 1, 'num_gpus': 0.0}\n",
      "\u001b[92mINFO \u001b[0m:      Flower VCE: Creating VirtualClientEngineActorPool with 12 actors\n",
      "\u001b[92mINFO \u001b[0m:      [INIT]\n",
      "\u001b[92mINFO \u001b[0m:      Requesting initial parameters from one random client\n",
      "\u001b[2m\u001b[33m(raylet)\u001b[0m [2024-09-02 10:37:01,779 I 58546 58546] logging.cc:230: Set ray log level from environment variable RAY_BACKEND_LOG_LEVEL to 3\n",
      "\u001b[2m\u001b[33m(raylet)\u001b[0m [2024-09-02 10:37:02,669 I 58809 58809] logging.cc:230: Set ray log level from environment variable RAY_BACKEND_LOG_LEVEL to 3\n",
      "\u001b[2m\u001b[33m(raylet)\u001b[0m [2024-09-02 10:37:02,670 I 58804 58804] logging.cc:230: Set ray log level from environment variable RAY_BACKEND_LOG_LEVEL to 3\n",
      "\u001b[2m\u001b[33m(raylet)\u001b[0m [2024-09-02 10:37:02,679 I 58805 58805] logging.cc:230: Set ray log level from environment variable RAY_BACKEND_LOG_LEVEL to 3\n",
      "\u001b[2m\u001b[33m(raylet)\u001b[0m [2024-09-02 10:37:02,680 I 58808 58808] logging.cc:230: Set ray log level from environment variable RAY_BACKEND_LOG_LEVEL to 3\n",
      "\u001b[2m\u001b[33m(raylet)\u001b[0m [2024-09-02 10:37:02,680 I 58816 58816] logging.cc:230: Set ray log level from environment variable RAY_BACKEND_LOG_LEVEL to 3\n",
      "\u001b[2m\u001b[33m(raylet)\u001b[0m [2024-09-02 10:37:02,698 I 58815 58815] logging.cc:230: Set ray log level from environment variable RAY_BACKEND_LOG_LEVEL to 3\n",
      "\u001b[2m\u001b[33m(raylet)\u001b[0m [2024-09-02 10:37:02,699 I 58814 58814] logging.cc:230: Set ray log level from environment variable RAY_BACKEND_LOG_LEVEL to 3\n",
      "\u001b[2m\u001b[33m(raylet)\u001b[0m [2024-09-02 10:37:02,705 I 58812 58812] logging.cc:230: Set ray log level from environment variable RAY_BACKEND_LOG_LEVEL to 3\n",
      "\u001b[2m\u001b[33m(raylet)\u001b[0m [2024-09-02 10:37:02,713 I 58811 58811] logging.cc:230: Set ray log level from environment variable RAY_BACKEND_LOG_LEVEL to 3\n",
      "\u001b[2m\u001b[33m(raylet)\u001b[0m [2024-09-02 10:37:02,714 I 58817 58817] logging.cc:230: Set ray log level from environment variable RAY_BACKEND_LOG_LEVEL to 3\n",
      "\u001b[2m\u001b[33m(raylet)\u001b[0m [2024-09-02 10:37:02,730 I 58810 58810] logging.cc:230: Set ray log level from environment variable RAY_BACKEND_LOG_LEVEL to 3\n",
      "\u001b[2m\u001b[33m(raylet)\u001b[0m [2024-09-02 10:37:02,746 I 58813 58813] logging.cc:230: Set ray log level from environment variable RAY_BACKEND_LOG_LEVEL to 3\n",
      "\u001b[92mINFO \u001b[0m:      Received initial parameters from one random client\n",
      "\u001b[92mINFO \u001b[0m:      Evaluating initial global parameters\n",
      "\u001b[92mINFO \u001b[0m:      initial parameters (loss, other metrics): 0.8739042312037862, {'accuracy': 0.6150832517140059}\n",
      "\u001b[92mINFO \u001b[0m:      \n",
      "\u001b[92mINFO \u001b[0m:      [ROUND 1]\n",
      "\u001b[92mINFO \u001b[0m:      configure_fit: strategy sampled 4 clients (out of 4)\n"
     ]
    },
    {
     "name": "stdout",
     "output_type": "stream",
     "text": [
      "\u001b[2m\u001b[36m(ClientAppActor pid=58817)\u001b[0m ******* 235662000 **********\n",
      "\u001b[2m\u001b[36m(ClientAppActor pid=58817)\u001b[0m Client id: 235662000\n",
      "\u001b[2m\u001b[36m(ClientAppActor pid=58817)\u001b[0m Vessel types: ['Cargo', 'Passenger', 'Tanker']\n",
      "\u001b[2m\u001b[36m(ClientAppActor pid=58817)\u001b[0m Trajectory features: ['speed_max', 'speed_median', 'x_start', 'y_start', 'x_end', 'y_end', 'length']\n",
      "\u001b[2m\u001b[36m(ClientAppActor pid=58817)\u001b[0m Test size: 0.33\n",
      "\u001b[2m\u001b[36m(ClientAppActor pid=58817)\u001b[0m Filtering ship_type to ['Cargo', 'Passenger', 'Tanker'] ...\n",
      "\u001b[2m\u001b[36m(ClientAppActor pid=58817)\u001b[0m ... 3263 found.\n",
      "\u001b[2m\u001b[36m(ClientAppActor pid=58817)\u001b[0m Filtering client to 235662000 ...\n",
      "\u001b[2m\u001b[36m(ClientAppActor pid=58817)\u001b[0m ... 30 found.\n",
      "Accuracy 0.6150832517140059\n",
      "\u001b[2m\u001b[36m(ClientAppActor pid=58817)\u001b[0m Available trajectory columns: Index(['traj_id', 'start_t', 'end_t', 'geometry', 'length', 'direction',\n",
      "\u001b[2m\u001b[36m(ClientAppActor pid=58817)\u001b[0m        'client', 'mover_id', 'speed_max', 'speed_median', 'H3_seq',\n",
      "\u001b[2m\u001b[36m(ClientAppActor pid=58817)\u001b[0m        'speed_start', 'direction_start', 'x_start', 'y_start', 'speed_end',\n",
      "\u001b[2m\u001b[36m(ClientAppActor pid=58817)\u001b[0m        'direction_end', 'x_end', 'y_end', 'ship_type'],\n",
      "\u001b[2m\u001b[36m(ClientAppActor pid=58817)\u001b[0m       dtype='object')\n",
      "\u001b[2m\u001b[36m(ClientAppActor pid=58817)\u001b[0m 2024-09-02 10:37:05.431932 Splitting dataset ...\n",
      "\u001b[2m\u001b[36m(ClientAppActor pid=58817)\u001b[0m Using 19 movers for training and 10 for testing ...\n",
      "\u001b[2m\u001b[36m(ClientAppActor pid=58817)\u001b[0m (20 trajectories for training and 10 for testing)\n",
      "\u001b[2m\u001b[36m(ClientAppActor pid=58817)\u001b[0m CLIENT 235662000 started up, will use partition 1 of 3 partitions for training\n",
      "\u001b[2m\u001b[36m(ClientAppActor pid=58817)\u001b[0m ******* 265737220 **********\n",
      "\u001b[2m\u001b[36m(ClientAppActor pid=58817)\u001b[0m Client id: 265737220\n",
      "\u001b[2m\u001b[36m(ClientAppActor pid=58817)\u001b[0m Vessel types: ['Cargo', 'Passenger', 'Tanker']\n",
      "\u001b[2m\u001b[36m(ClientAppActor pid=58817)\u001b[0m Trajectory features: ['speed_max', 'speed_median', 'x_start', 'y_start', 'x_end', 'y_end', 'length']\n",
      "\u001b[2m\u001b[36m(ClientAppActor pid=58817)\u001b[0m Test size: 0.33\n",
      "\u001b[2m\u001b[36m(ClientAppActor pid=58817)\u001b[0m Filtering ship_type to ['Cargo', 'Passenger', 'Tanker'] ...\n",
      "\u001b[2m\u001b[36m(ClientAppActor pid=58817)\u001b[0m ... 3263 found.\n",
      "\u001b[2m\u001b[36m(ClientAppActor pid=58817)\u001b[0m Filtering client to 265737220 ...\n",
      "\u001b[2m\u001b[36m(ClientAppActor pid=58817)\u001b[0m ... 93 found.\n",
      "\u001b[2m\u001b[36m(ClientAppActor pid=58817)\u001b[0m Available trajectory columns: Index(['traj_id', 'start_t', 'end_t', 'geometry', 'length', 'direction',\n",
      "\u001b[2m\u001b[36m(ClientAppActor pid=58817)\u001b[0m        'client', 'mover_id', 'speed_max', 'speed_median', 'H3_seq',\n",
      "\u001b[2m\u001b[36m(ClientAppActor pid=58817)\u001b[0m        'speed_start', 'direction_start', 'x_start', 'y_start', 'speed_end',\n",
      "\u001b[2m\u001b[36m(ClientAppActor pid=58817)\u001b[0m        'direction_end', 'x_end', 'y_end', 'ship_type'],\n",
      "\u001b[2m\u001b[36m(ClientAppActor pid=58817)\u001b[0m       dtype='object')\n",
      "\u001b[2m\u001b[36m(ClientAppActor pid=58817)\u001b[0m 2024-09-02 10:37:05.562009 Splitting dataset ...\n",
      "\u001b[2m\u001b[36m(ClientAppActor pid=58817)\u001b[0m Using 42 movers for training and 22 for testing ...\n",
      "\u001b[2m\u001b[36m(ClientAppActor pid=58817)\u001b[0m (62 trajectories for training and 31 for testing)\n",
      "\u001b[2m\u001b[36m(ClientAppActor pid=58817)\u001b[0m CLIENT 265737220 started up, will use partition 1 of 3 partitions for training\n",
      "\u001b[2m\u001b[36m(ClientAppActor pid=58817)\u001b[0m CLIENT 265737220 Training finished for round 1\n"
     ]
    }
   ],
   "source": [
    "clients_per_round = 4\n",
    "rounds = 10\n",
    "client_data_partitions = 3\n",
    "\n",
    "\n",
    "client_mapping = {  # flwr client id -> MMSI\n",
    "     '0': 236111925,\n",
    "     '1': 219012959,\n",
    "     '2': 235662000,\n",
    "     '3': 265737220,\n",
    "}\n",
    "\n",
    "\n",
    "client_fn = generate_client_fn(trajectory_classifier_model, client_mapping, client_data_partitions, mobile_data_loader)\n",
    "\n",
    "print(f\"{datetime.now()} Starting training\")\n",
    "fl.simulation.start_simulation(\n",
    "        client_fn=client_fn,\n",
    "        num_clients=clients_per_round,\n",
    "        config=fl.server.ServerConfig(num_rounds=rounds),\n",
    "        strategy=mobile_strategy\n",
    ")\n",
    "print(f\"{datetime.now()} Training done\")"
   ]
  },
  {
   "cell_type": "code",
   "execution_count": null,
   "metadata": {},
   "outputs": [],
   "source": []
  },
  {
   "cell_type": "code",
   "execution_count": null,
   "metadata": {},
   "outputs": [],
   "source": []
  }
 ],
 "metadata": {
  "kernelspec": {
   "display_name": "Python 3 (ipykernel)",
   "language": "python",
   "name": "python3"
  },
  "language_info": {
   "codemirror_mode": {
    "name": "ipython",
    "version": 3
   },
   "file_extension": ".py",
   "mimetype": "text/x-python",
   "name": "python",
   "nbconvert_exporter": "python",
   "pygments_lexer": "ipython3",
   "version": "3.10.14"
  }
 },
 "nbformat": 4,
 "nbformat_minor": 4
}
